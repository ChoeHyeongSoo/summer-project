{
 "cells": [
  {
   "cell_type": "markdown",
   "metadata": {},
   "source": [
    "Numpy 기초\n",
    "=========="
   ]
  },
  {
   "cell_type": "markdown",
   "metadata": {},
   "source": [
    "동국대 김종석 교수님 자료: [링크](http://bigdata.dongguk.ac.kr/lectures/Python/_book/numpy.html#numpy%EB%84%98%ED%8C%8C%EC%9D%B4-%ED%8A%B9%EC%A7%95)"
   ]
  },
  {
   "cell_type": "markdown",
   "metadata": {},
   "source": []
  }
 ],
 "metadata": {
  "language_info": {
   "name": "python"
  },
  "orig_nbformat": 4
 },
 "nbformat": 4,
 "nbformat_minor": 2
}
